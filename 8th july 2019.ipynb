{
 "cells": [
  {
   "cell_type": "code",
   "execution_count": 3,
   "metadata": {},
   "outputs": [
    {
     "name": "stdout",
     "output_type": "stream",
     "text": [
      "hello@@@the\n",
      "HELLO@@@THE\n"
     ]
    }
   ],
   "source": [
    "#You are given a string and your task is to swap cases. In other words, convert all lowercase letters to uppercase letters and vice versa. (The String may contain special characters).\n",
    "s=input()\n",
    "print(s.swapcase())"
   ]
  },
  {
   "cell_type": "code",
   "execution_count": 7,
   "metadata": {},
   "outputs": [
    {
     "name": "stdout",
     "output_type": "stream",
     "text": [
      "HEL@@LO\n",
      "hel@@lo\n"
     ]
    }
   ],
   "source": [
    "s=input()\n",
    "if s.isupper():\n",
    "    print(s.lower())\n",
    "else:\n",
    "    print(s.upper())"
   ]
  },
  {
   "cell_type": "code",
   "execution_count": 26,
   "metadata": {},
   "outputs": [
    {
     "name": "stdout",
     "output_type": "stream",
     "text": [
      "24\n",
      "Not weird\n"
     ]
    }
   ],
   "source": [
    "#Given an integer, ’n’ , perform the following conditional actions:\n",
    "#If ‘n’  is odd, print Weird\n",
    "#If  ‘n’ is even and in the inclusive range of 2 to 5, print Not Weird\n",
    "#If  ‘n’ is even and in the inclusive range of 6 to 20 , print Weird\n",
    "#If  ‘n’ is even and greater than 20, print Not Weird\n",
    "n=int(input())\n",
    "if n%2==0 and n in range(2,5):\n",
    "    print(\"not weird\")\n",
    "elif n%2==0 and n in range(6,20):\n",
    "    print(\"weird\")\n",
    "elif n%2==0 and n>20:\n",
    "    print(\"Not weird\")\n",
    "else:\n",
    "    print(\"wired\")\n",
    "        "
   ]
  },
  {
   "cell_type": "code",
   "execution_count": 4,
   "metadata": {},
   "outputs": [
    {
     "name": "stdout",
     "output_type": "stream",
     "text": [
      "2\n",
      "60\n",
      "6\n",
      "12\n",
      "18\n",
      "24\n",
      "30\n",
      "36\n",
      "42\n",
      "48\n",
      "54\n",
      "60\n"
     ]
    }
   ],
   "source": [
    "#Function to print all numbers divisible by 6 and not a factor of 100 in a given range(lb, ub) inclusive\n",
    "lb=int(input())\n",
    "ub=int(input())\n",
    "def fact(lb,ub):\n",
    "    \n",
    "    for i in range(lb,ub+1):\n",
    "        if i%6==0 and i%100!=0:\n",
    "            print(i)\n",
    "fact(lb,ub)\n"
   ]
  },
  {
   "cell_type": "code",
   "execution_count": 6,
   "metadata": {},
   "outputs": [
    {
     "name": "stdout",
     "output_type": "stream",
     "text": [
      "1\n",
      "10\n",
      "8\n",
      "64\n",
      "216\n",
      "512\n",
      "1000\n",
      "360\n"
     ]
    }
   ],
   "source": [
    "#even number\n",
    "#cubes\n",
    "#average\n",
    "lb=int(input())\n",
    "ub=int(input())\n",
    "def evenNum(lb,ub):\n",
    "    c=0\n",
    "    s=0\n",
    "    for i in range(lb,ub+1):\n",
    "        \n",
    "        if i%2==0:\n",
    "            ev=i*i*i\n",
    "            print(ev)\n",
    "            c+=1\n",
    "            s+=ev\n",
    "    avg=s//c\n",
    "    print(avg)\n",
    "     \n",
    "            \n",
    "evenNum(lb,ub)\n",
    "            "
   ]
  },
  {
   "cell_type": "code",
   "execution_count": 25,
   "metadata": {},
   "outputs": [
    {
     "name": "stdout",
     "output_type": "stream",
     "text": [
      "4\n",
      "1\n",
      "2\n",
      "4\n"
     ]
    }
   ],
   "source": [
    "# Function to generate the list of factors for a given number\n",
    "n=int(input())\n",
    "def facts(n):\n",
    "    for i in range(1,n+1):\n",
    "        if n%i==0:\n",
    "            print(i)\n",
    "facts(n)"
   ]
  },
  {
   "cell_type": "code",
   "execution_count": 29,
   "metadata": {},
   "outputs": [
    {
     "name": "stdout",
     "output_type": "stream",
     "text": [
      "6\n",
      "720\n"
     ]
    }
   ],
   "source": [
    "#Function to calculate the factorial of a given number\n",
    "num=int(input())\n",
    "def factorial(num):\n",
    "    fact=1\n",
    "    for i in range(1,num+1):\n",
    "        fact=fact*i\n",
    "    print(fact)\n",
    "factorial(num)\n",
    "        \n",
    "        \n"
   ]
  },
  {
   "cell_type": "code",
   "execution_count": null,
   "metadata": {},
   "outputs": [],
   "source": [
    "#Function to check if a given number is Prime\n",
    "num=int(input())\n",
    "def prime(num):\n",
    "    if num > 1:\n",
    "        for i in range(2,num):\n",
    "            if (num % i) == 0:\n",
    "                print(num,\"is not a prime number\")\n",
    "                #print(i,\"times\",num//i,\"is\",num)\n",
    "                break\n",
    "        else:\n",
    "            print(num,\"is a prime number\")\n",
    "    else:\n",
    "        print(num,\"is not a prime number\")\n",
    "prime(num)"
   ]
  },
  {
   "cell_type": "markdown",
   "metadata": {},
   "source": [
    "r=int(input(\"Enter upper limit: \"))\n",
    "for a in range(2,r+1):\n",
    "    k=0\n",
    "    for i in range(2,a//2+1):\n",
    "        if(a%i==0):\n",
    "            k=k+1\n",
    "            \n",
    "    if(k<=0):\n",
    "        print(a)"
   ]
  },
  {
   "cell_type": "code",
   "execution_count": null,
   "metadata": {},
   "outputs": [],
   "source": [
    "\n"
   ]
  }
 ],
 "metadata": {
  "kernelspec": {
   "display_name": "Python 3",
   "language": "python",
   "name": "python3"
  },
  "language_info": {
   "codemirror_mode": {
    "name": "ipython",
    "version": 3
   },
   "file_extension": ".py",
   "mimetype": "text/x-python",
   "name": "python",
   "nbconvert_exporter": "python",
   "pygments_lexer": "ipython3",
   "version": "3.7.3"
  }
 },
 "nbformat": 4,
 "nbformat_minor": 2
}
