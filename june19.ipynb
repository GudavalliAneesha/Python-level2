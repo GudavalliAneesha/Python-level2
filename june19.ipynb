{
 "cells": [
  {
   "cell_type": "code",
   "execution_count": 5,
   "metadata": {},
   "outputs": [
    {
     "name": "stdout",
     "output_type": "stream",
     "text": [
      "2\n",
      "2\n"
     ]
    }
   ],
   "source": [
    "def factorial(n): \n",
    "        return 1 if (n==1 or n==0) else n * factorial(n - 1)  \n",
    "num = int(input())\n",
    "print (factorial(num)) \n"
   ]
  },
  {
   "cell_type": "code",
   "execution_count": null,
   "metadata": {},
   "outputs": [],
   "source": [
    "n=int(input())\n",
    "def prime(n):\n",
    "    for i in range(1,n+1):\n",
    "        c=0\n",
    "        for j in range(1,i+1):\n",
    "            if i%j==0:\n",
    "               c=c+1\n",
    "        if c==2:\n",
    "            print(i)\n",
    "prime(n)\n",
    "      \n",
    "       "
   ]
  },
  {
   "cell_type": "code",
   "execution_count": null,
   "metadata": {},
   "outputs": [],
   "source": [
    "s=input()\n",
    "def countDiv(i,j,k):\n",
    "    c=0\n",
    "    for num in range(i,j+1):\n",
    "        if num % k ==0:\n",
    "            c=c+1\n",
    "    print(c)\n",
    "    return \n",
    "s=s.split()\n",
    "i=int(s[0])\n",
    "j=int(s[1])\n",
    "k=int(s[2])\n",
    "countDiv(i,j,k)"
   ]
  },
  {
   "cell_type": "code",
   "execution_count": null,
   "metadata": {},
   "outputs": [],
   "source": [
    "s=input()\n",
    "def countDiv(i,j,k):\n",
    "    c=0\n",
    "    for num in range(i,j+1):\n",
    "        if num % k ==0:\n",
    "            c=c+1\n",
    "    print(c)\n",
    "    return \n",
    "s=s.split()\n",
    "i=int(s[0])\n",
    "j=int(s[1])\n",
    "k=int(s[2])\n",
    "countDiv(i,j,k)\n"
   ]
  },
  {
   "cell_type": "code",
   "execution_count": null,
   "metadata": {},
   "outputs": [],
   "source": [
    "def factorial(n): \n",
    "        return 1 if (n==1 or n==0) else n * factorial(n - 1)  \n",
    "num = int(input())\n",
    "print (factorial(num)) \n"
   ]
  }
 ],
 "metadata": {
  "kernelspec": {
   "display_name": "Python 3",
   "language": "python",
   "name": "python3"
  },
  "language_info": {
   "codemirror_mode": {
    "name": "ipython",
    "version": 3
   },
   "file_extension": ".py",
   "mimetype": "text/x-python",
   "name": "python",
   "nbconvert_exporter": "python",
   "pygments_lexer": "ipython3",
   "version": "3.7.3"
  }
 },
 "nbformat": 4,
 "nbformat_minor": 2
}
