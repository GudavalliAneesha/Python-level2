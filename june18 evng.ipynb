{
 "cells": [
  {
   "cell_type": "markdown",
   "metadata": {},
   "source": [
    "### Tuples\n",
    "t1=()\n",
    "li=[]\n",
    "DIfference between Lists and Tuples\n",
    "Lists are mutable - can be changed/modified\n",
    "  * used to Access,Modified,Add,Delete data\n",
    "Tuples are immutable - cannot be changed once initialised\n",
    "  * used to access data only\n",
    "  * All SLicing work\n"
   ]
  },
  {
   "cell_type": "code",
   "execution_count": 3,
   "metadata": {},
   "outputs": [
    {
     "data": {
      "text/plain": [
       "(8, 6, 0)"
      ]
     },
     "execution_count": 3,
     "metadata": {},
     "output_type": "execute_result"
    }
   ],
   "source": [
    "t1=(1,2,8,6,0)\n",
    "\n",
    "t1[3] # Accessing the fourth element\n",
    "t1[len(t1)//2:] # Accessing all elements from mid element to last element \n"
   ]
  },
  {
   "cell_type": "code",
   "execution_count": 4,
   "metadata": {},
   "outputs": [
    {
     "data": {
      "text/plain": [
       "tuple"
      ]
     },
     "execution_count": 4,
     "metadata": {},
     "output_type": "execute_result"
    }
   ],
   "source": [
    "type(t1)"
   ]
  },
  {
   "cell_type": "markdown",
   "metadata": {},
   "source": [
    "### Dictionaries\n",
    "It works on the concept of set\n",
    "Unique Data\n",
    "\n",
    "Keys,Values\n",
    "Key is the unique identifier for a value\n",
    "Value is data that can be accessed with a key\n"
   ]
  },
  {
   "cell_type": "code",
   "execution_count": 8,
   "metadata": {},
   "outputs": [
    {
     "data": {
      "text/plain": [
       "dict_items([('k1', 'value1'), ('k2', 'value2')])"
      ]
     },
     "execution_count": 8,
     "metadata": {},
     "output_type": "execute_result"
    }
   ],
   "source": [
    "d1={\"k1\":\"value1\",\"k2\":\"value2\"}\n",
    "\n",
    "d1[\"k2\"]# Accessing the value with key \"k2\"\n",
    "d1.keys()# returns list of all keys\n",
    "d1.values()# returns list of all values\n",
    "d1.items()# returns list of tuples of keys and values\n",
    "d1[\"k3\"]=\"value3\"# Adding an element to dictionary\n",
    "d1[\"k3\"]=\"value4\" # updating an elemnet to dictionary\n",
    "d1.pop(\"k3\")# Removing an element\n",
    "\n",
    "\"value1\" in d1\n"
   ]
  },
  {
   "cell_type": "markdown",
   "metadata": {},
   "source": [
    "# Contacts Application\n",
    "- Add Conctact\n",
    "- search contact\n",
    "- List all contacts\n",
    "        -name1:phone1\n",
    "        -name2:phone2\n",
    "- Modify contact\n",
    "- Remove contact\n"
   ]
  },
  {
   "cell_type": "code",
   "execution_count": 11,
   "metadata": {},
   "outputs": [
    {
     "name": "stdout",
     "output_type": "stream",
     "text": [
      "Contact name1 ded\n"
     ]
    }
   ],
   "source": [
    "contacts={}\n",
    "def addContact(name,phone):\n",
    "    #verify thet the contact doesnot alresy exist\n",
    "    if name not in contacts:\n",
    "        contacts[name]=phone\n",
    "        print(\"Contact %s ded\" % name)\n",
    "    else:\n",
    "        print(\"Contact %s already exists\" % name )\n",
    "        \n",
    "        return\n",
    "    \n",
    "              \n",
    "addContact(\"name1\",\"1234567\")              \n",
    "              \n",
    "              \n",
    "              \n",
    "              "
   ]
  },
  {
   "cell_type": "code",
   "execution_count": 12,
   "metadata": {},
   "outputs": [
    {
     "name": "stdout",
     "output_type": "stream",
     "text": [
      "name10 does not exist\n"
     ]
    }
   ],
   "source": [
    "def searchContacts(name):\n",
    "    if name in contacts:\n",
    "        print(name,\":\",contacts[name])\n",
    "    else:\n",
    "        print(\"%s does not exist\" % name)\n",
    "    return\n",
    "searchContacts(\"name10\")"
   ]
  },
  {
   "cell_type": "code",
   "execution_count": 16,
   "metadata": {},
   "outputs": [
    {
     "name": "stdout",
     "output_type": "stream",
     "text": [
      "{'name1': '1234567', 'name2': 1234567897, 'name3': 9876543219}\n"
     ]
    }
   ],
   "source": [
    "def listAllContacts():\n",
    "    if contacts:\n",
    "        print(contacts)\n",
    "listAllContacts()\n",
    "    \n",
    "    \n",
    "    "
   ]
  },
  {
   "cell_type": "code",
   "execution_count": 15,
   "metadata": {},
   "outputs": [
    {
     "name": "stdout",
     "output_type": "stream",
     "text": [
      "2 added successfully\n"
     ]
    }
   ],
   "source": [
    "def importContacts(newContacts):\n",
    "    contacts.update(newContacts)\n",
    "    print(len(newContacts.keys()),\"added successfully\")\n",
    "    return\n",
    "newContacts={\"name2\":1234567897,\"name3\":9876543219}\n",
    "\n",
    "importContacts(newContacts)\n",
    "    "
   ]
  },
  {
   "cell_type": "code",
   "execution_count": 18,
   "metadata": {},
   "outputs": [],
   "source": [
    "def remove():"
   ]
  },
  {
   "cell_type": "markdown",
   "metadata": {},
   "source": [
    "### Packages and Modules\n",
    "**Package** -> Collection of Modules(python File,py) and subpackage.\n",
    "\n",
    "**Sub Package**->\n",
    "\n",
    "**Module** -> A single python file containing functions.\n",
    "\n",
    "Package -> Subpackages -> Modules -> Functions"
   ]
  },
  {
   "cell_type": "code",
   "execution_count": 22,
   "metadata": {},
   "outputs": [
    {
     "data": {
      "text/plain": [
       "3.141592653589793"
      ]
     },
     "execution_count": 22,
     "metadata": {},
     "output_type": "execute_result"
    }
   ],
   "source": [
    "from math import floor,pi\n",
    "\n",
    "floor(123.456)\n",
    "pi"
   ]
  },
  {
   "cell_type": "code",
   "execution_count": 23,
   "metadata": {},
   "outputs": [
    {
     "name": "stdout",
     "output_type": "stream",
     "text": [
      "44 57 76 94 9 64 76 13 23 23 "
     ]
    }
   ],
   "source": [
    "# Function to generate N random  number in an given range\n",
    "import random\n",
    "def generateNRandomNumbers(n,lb,ub):\n",
    "    for i in range(0,n):\n",
    "        print(random.randint(lb,ub), end=\" \")\n",
    "generateNRandomNumbers(10,0,100)"
   ]
  },
  {
   "cell_type": "code",
   "execution_count": null,
   "metadata": {},
   "outputs": [],
   "source": []
  },
  {
   "cell_type": "code",
   "execution_count": 1,
   "metadata": {},
   "outputs": [
    {
     "ename": "SyntaxError",
     "evalue": "invalid syntax (numerical.py, line 11)",
     "output_type": "error",
     "traceback": [
      "Traceback \u001b[1;36m(most recent call last)\u001b[0m:\n",
      "  File \u001b[0;32m\"C:\\Users\\IIIT-rgukt\\Anaconda3\\lib\\site-packages\\IPython\\core\\interactiveshell.py\"\u001b[0m, line \u001b[0;32m3296\u001b[0m, in \u001b[0;35mrun_code\u001b[0m\n    exec(code_obj, self.user_global_ns, self.user_ns)\n",
      "\u001b[1;36m  File \u001b[1;32m\"<ipython-input-1-b90ace90703f>\"\u001b[1;36m, line \u001b[1;32m1\u001b[1;36m, in \u001b[1;35m<module>\u001b[1;36m\u001b[0m\n\u001b[1;33m    from packages import numerical\u001b[0m\n",
      "\u001b[1;36m  File \u001b[1;32m\"C:\\Users\\IIIT-rgukt\\Desktop\\Problem Solving Using Python\\packages\\numerical.py\"\u001b[1;36m, line \u001b[1;32m11\u001b[0m\n\u001b[1;33m    return True                                                                                                                                                                                                                                                 def numberOfPrimeFactors(n):\u001b[0m\n\u001b[1;37m                                                                                                                                                                                                                                                                  ^\u001b[0m\n\u001b[1;31mSyntaxError\u001b[0m\u001b[1;31m:\u001b[0m invalid syntax\n"
     ]
    }
   ],
   "source": [
    "from packages import numerical\n",
    "numerical.numberOfPrimeFactors(6)"
   ]
  },
  {
   "cell_type": "code",
   "execution_count": 5,
   "metadata": {},
   "outputs": [
    {
     "ename": "SyntaxError",
     "evalue": "invalid syntax (numerical.py, line 11)",
     "output_type": "error",
     "traceback": [
      "Traceback \u001b[1;36m(most recent call last)\u001b[0m:\n",
      "  File \u001b[0;32m\"C:\\Users\\IIIT-rgukt\\Anaconda3\\lib\\site-packages\\IPython\\core\\interactiveshell.py\"\u001b[0m, line \u001b[0;32m3296\u001b[0m, in \u001b[0;35mrun_code\u001b[0m\n    exec(code_obj, self.user_global_ns, self.user_ns)\n",
      "\u001b[1;36m  File \u001b[1;32m\"<ipython-input-5-bacfa4900c2b>\"\u001b[1;36m, line \u001b[1;32m1\u001b[1;36m, in \u001b[1;35m<module>\u001b[1;36m\u001b[0m\n\u001b[1;33m    from packages.numerical import isPrime\u001b[0m\n",
      "\u001b[1;36m  File \u001b[1;32m\"C:\\Users\\IIIT-rgukt\\Desktop\\Problem Solving Using Python\\packages\\numerical.py\"\u001b[1;36m, line \u001b[1;32m11\u001b[0m\n\u001b[1;33m    return True                                                                                                                                                                                                                                                 def numberOfPrimeFactors(n):\u001b[0m\n\u001b[1;37m                                                                                                                                                                                                                                                                  ^\u001b[0m\n\u001b[1;31mSyntaxError\u001b[0m\u001b[1;31m:\u001b[0m invalid syntax\n"
     ]
    }
   ],
   "source": [
    "from packages.numerical import isPrime \n",
    "isPrime(103)"
   ]
  },
  {
   "cell_type": "code",
   "execution_count": null,
   "metadata": {},
   "outputs": [],
   "source": []
  }
 ],
 "metadata": {
  "kernelspec": {
   "display_name": "Python 3",
   "language": "python",
   "name": "python3"
  },
  "language_info": {
   "codemirror_mode": {
    "name": "ipython",
    "version": 3
   },
   "file_extension": ".py",
   "mimetype": "text/x-python",
   "name": "python",
   "nbconvert_exporter": "python",
   "pygments_lexer": "ipython3",
   "version": "3.7.3"
  }
 },
 "nbformat": 4,
 "nbformat_minor": 2
}
