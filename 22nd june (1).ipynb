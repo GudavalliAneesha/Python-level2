{
 "cells": [
  {
   "cell_type": "markdown",
   "metadata": {},
   "source": [
    "#### Date:22 june\n",
    "#### Day Objectives \n",
    "- File Handling\n",
    "    - Basic File Data processing\n",
    "       - Accessing and Modifying File Data\n",
    "    - Charecter Count\n",
    "    - Line Count\n",
    "    - File Size\n",
    "    - word count\n",
    "    - Unique word Count\n",
    "    "
   ]
  },
  {
   "cell_type": "code",
   "execution_count": 4,
   "metadata": {},
   "outputs": [
    {
     "name": "stdout",
     "output_type": "stream",
     "text": [
      "Line1\n",
      "Line2\n",
      "Line3\n",
      "Line4\n",
      "Line5\n"
     ]
    }
   ],
   "source": [
    "# Read a File - File should exist(Read mode)\n",
    "# Write into a File - existing(append mode) or new File(write mode) can be created\n",
    "\n",
    "def readFile(filePath):\n",
    "    with open(filePath,'r') as f:\n",
    "        filedata=f.read()\n",
    "    return filedata\n",
    "filePath = 'DataFile/data.txt'\n",
    "print(readFile(filePath))\n"
   ]
  },
  {
   "cell_type": "code",
   "execution_count": 10,
   "metadata": {},
   "outputs": [
    {
     "name": "stdout",
     "output_type": "stream",
     "text": [
      "5\n"
     ]
    }
   ],
   "source": [
    "#Line count\n",
    "\n",
    "def readLine(file):\n",
    "    c=0\n",
    "    f= open(file,'r') \n",
    "    for line in f:\n",
    "        c=c+1\n",
    "    print(c)\n",
    "file='DataFile/data.txt'\n",
    "readLine(file)\n",
    "    "
   ]
  },
  {
   "cell_type": "code",
   "execution_count": 25,
   "metadata": {},
   "outputs": [
    {
     "name": "stdout",
     "output_type": "stream",
     "text": [
      "5\n",
      "5\n"
     ]
    }
   ],
   "source": [
    "# Word count\n",
    "def readLine(file):\n",
    "    c=0\n",
    "    w=0\n",
    "    f= open(file,'r')\n",
    "    for line in f:\n",
    "        wd=line.split()\n",
    "        c=c+1\n",
    "        w = w + len(wd)\n",
    "    print(c)\n",
    "    print(w)\n",
    "    \n",
    "    \n",
    "file='DataFile/data.txt'\n",
    "readLine(file)\n",
    "\n",
    "    "
   ]
  },
  {
   "cell_type": "code",
   "execution_count": 3,
   "metadata": {},
   "outputs": [
    {
     "name": "stdout",
     "output_type": "stream",
     "text": [
      "5\n",
      "5\n",
      "29\n"
     ]
    }
   ],
   "source": [
    "#Words in a file\n",
    "\n",
    "def readLine(file):\n",
    "    c=0\n",
    "    le=0\n",
    "    w=0\n",
    "    f= open(file,'r')\n",
    "    for line in f:\n",
    "        wd=line.split()\n",
    "        c=c+1\n",
    "        w = w + len(wd)\n",
    "        le=le+len(line)\n",
    "    print(c)\n",
    "    print(w)\n",
    "    print(le)\n",
    "    \n",
    "    \n",
    "file='DataFile/data.txt'\n",
    "readLine(file)"
   ]
  },
  {
   "cell_type": "code",
   "execution_count": 2,
   "metadata": {},
   "outputs": [
    {
     "name": "stdout",
     "output_type": "stream",
     "text": [
      "5\n"
     ]
    }
   ],
   "source": [
    "# Unique word count\n",
    "words=[]\n",
    "k=0\n",
    "filepath='DataFile/data.txt'\n",
    "with open (filepath) as file:\n",
    "    for line in file:\n",
    "        wd=line.split()\n",
    "        for i in wd:\n",
    "            if wd.count(i)==1:\n",
    "                k+=1\n",
    "    print(k)\n",
    "            \n",
    "\n"
   ]
  },
  {
   "cell_type": "code",
   "execution_count": null,
   "metadata": {},
   "outputs": [],
   "source": [
    "contact={}#empty dictionary\n",
    "def addContact():\n",
    "    n=int(input())\n",
    "    for record in range(n):\n",
    "        name=input()\n",
    "        mobile=input()\n",
    "        email=input()\n",
    "        contact[name]=[mobile,email]\n",
    "    with open(\"contact.txt\",\"w\") as data:\n",
    "        for user in contact.items():\n",
    "            data.write(user[0]+\",\"+user[1][0]+\",\"+user[1][1]+\"\\n\")\n",
    "    return \"Data added successfully..!!\"\n",
    "            \n"
   ]
  },
  {
   "cell_type": "code",
   "execution_count": null,
   "metadata": {},
   "outputs": [],
   "source": [
    "def modifyContacts(filename):\n",
    "    updated_data={}\n",
    "    name = input()\n",
    "    with open(filename,'r') as f: \n",
    "        for line in f:\n",
    "            line=line.strip().split(',')\n",
    "            if name in line:\n",
    "                mobile = input()\n",
    "                email = input()\n",
    "                line[1]= mobile\n",
    "                line[2]= email\n",
    "                updated_data[line[0]]=[line[1],line[2]]\n",
    "            else:\n",
    "                updated_data[line[0]]=[line[1],line[2]]\n",
    "                continue\n",
    "    with open(filename,'w') as info:\n",
    "        for user in updated_data.items():\n",
    "            info.write(user[0]+','+user[1][0]+\",\"+user[1][1]+\"\\n\")\n",
    "\n",
    "\n",
    "filename=input()\n",
    "modifyContacts(filename) "
   ]
  },
  {
   "cell_type": "code",
   "execution_count": 17,
   "metadata": {},
   "outputs": [
    {
     "name": "stdout",
     "output_type": "stream",
     "text": [
      "In a Total of  23 Words, we found  14 Unique Values.\n",
      " These are  ['Hello', 'Hai', 'How', 'are', '', 'you', 'this', 'is', 'aneesha', 'Aneesha', 'a', 'stupid', 'Sandhya', 'Pavan']\n"
     ]
    }
   ],
   "source": [
    "def fileHere(filepath):\n",
    "    with open(filepath,'r') as f:\n",
    "        result = f.read()\n",
    "        return result\n",
    "filepath = 'D:/aneesha.txt'\n",
    "s = fileHere(filepath)\n",
    "s2 = s.split('\\n')\n",
    "list2 = []\n",
    "counter = 0\n",
    "for i in s2:\n",
    "    list3 = i.split(\" \")\n",
    "    for j in list3:\n",
    "        list2.append(j)\n",
    "        counter +=1\n",
    "unique = []\n",
    "for i in list2:\n",
    "    if i not in unique:\n",
    "        unique.append(i)\n",
    "print(\"In a Total of \",counter,\"Words, we found \",len(unique),\"Unique Values.\\n These are \", unique)"
   ]
  },
  {
   "cell_type": "code",
   "execution_count": 46,
   "metadata": {},
   "outputs": [
    {
     "name": "stdout",
     "output_type": "stream",
     "text": [
      "Hello,\n"
     ]
    }
   ],
   "source": [
    "a = \" Hello, World! \"\n",
    "print(a.strip(\" World!\"))\n"
   ]
  },
  {
   "cell_type": "code",
   "execution_count": 24,
   "metadata": {},
   "outputs": [
    {
     "name": "stdout",
     "output_type": "stream",
     "text": [
      "Hello!\n"
     ]
    }
   ],
   "source": [
    "a = \"*************Hello!*************\"\n",
    "print(a.strip('*'))"
   ]
  },
  {
   "cell_type": "code",
   "execution_count": 38,
   "metadata": {},
   "outputs": [
    {
     "name": "stdout",
     "output_type": "stream",
     "text": [
      "Pig\n"
     ]
    }
   ],
   "source": [
    "a = \"Aneesha Aneesha Pig\"\n",
    "print(a.strip('Aneesha '))"
   ]
  },
  {
   "cell_type": "code",
   "execution_count": null,
   "metadata": {},
   "outputs": [],
   "source": []
  }
 ],
 "metadata": {
  "kernelspec": {
   "display_name": "Python 3",
   "language": "python",
   "name": "python3"
  },
  "language_info": {
   "codemirror_mode": {
    "name": "ipython",
    "version": 3
   },
   "file_extension": ".py",
   "mimetype": "text/x-python",
   "name": "python",
   "nbconvert_exporter": "python",
   "pygments_lexer": "ipython3",
   "version": "3.7.3"
  }
 },
 "nbformat": 4,
 "nbformat_minor": 2
}
