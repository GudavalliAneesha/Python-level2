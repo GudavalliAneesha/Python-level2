{
 "cells": [
  {
   "cell_type": "markdown",
   "metadata": {},
   "source": [
    "#### Regular Expression\n",
    "\n",
    "- Pattern Matching\n",
    "- Symbolic Notation of pattern\n",
    "     - Pattern : Format which repeats\n",
    "     - Pattern(RE) represents The set of all values that  match a particular pattern\n",
    "- [0-9] -> Any digit \n",
    "- [a-z] -> Any lower case alphabet\n",
    "- [2468]-> All single digit multiples of 2\n",
    "- ^[0-9]{1}$ -> Only single digit  numbers\n",
    "- ^[0-9]{3}$-> only 3 digit numbers\n",
    "- [0-9]*0$-> All multiples of 10\n",
    "- ^([1-9][0-9]*[05])$^|([5])$ -> All multiples of five\n",
    "-   ^[0-9]{10} -> All 10 digit numbers\n",
    "-^[+][9][1][6-9][0-9]{9}$-> Validating Phone number(India)(start with 9876 followed by 9 digits)\n",
    "- -> Email Validation( username@domain.extesnsion)\n",
    "- username\n",
    "    - Length of username:[6,15]\n",
    "    - No special characters otherthan _ .\n",
    "    - Should not begin and end with _ .\n",
    "    - Character Set : all digits and lower casealphabet\n",
    "- domain\n",
    "    - Length of domain : [3,18]\n",
    "    - No special characters\n",
    "    - Character Set : all digits and lowercase alphabet\n",
    "- Extention\n",
    "    - Length of extention : [2,4]\n",
    "    - No special characters\n",
    "    - Character Set :lower case alphabet\n",
    "^[0-9a-z][0-9a-z_.]{4,13}[a-z0-9][@][a-z0-9]{3,18}[.][a-z]{2,4}$\n",
    "\n",
    "    \n",
    "\n",
    "    \n",
    "- [p][r][i][n][t] -> prints particular word 'print'\n"
   ]
  },
  {
   "cell_type": "code",
   "execution_count": 3,
   "metadata": {},
   "outputs": [
    {
     "name": "stdout",
     "output_type": "stream",
     "text": [
      "ghj\n",
      "oiuh\n",
      "5\n"
     ]
    }
   ],
   "source": [
    "def makeAnagram(a, b): \n",
    "    buffer = [0] * 26\n",
    "    for char in a: \n",
    "        buffer[ord(char) - ord('a')] += 1\n",
    "    for char in b: \n",
    "        buffer[ord(char) - ord('a')] -= 1\n",
    "    return sum(map(abs, buffer))\n",
    "if __name__ == \"__main__\" :  \n",
    "  \n",
    "    str1 =input()\n",
    "    str2 = input()\n",
    "    print(makeAnagram(str1, str2)) \n",
    "      \n",
    "  "
   ]
  },
  {
   "cell_type": "code",
   "execution_count": 2,
   "metadata": {},
   "outputs": [
    {
     "data": {
      "text/plain": [
       "False"
      ]
     },
     "execution_count": 2,
     "metadata": {},
     "output_type": "execute_result"
    }
   ],
   "source": [
    "# Function to validate a phone number\n",
    "\n",
    "import re\n",
    "\n",
    "\n",
    "def phoneNumberValidator(P):\n",
    "    pattern = '^[6-9][0-9]{9}$|^[0][6-9][0-9]{9}$'\n",
    "    if re.match(pattern,P):\n",
    "        return True\n",
    "    else:\n",
    "        return False\n",
    "    \n",
    "\n",
    "phoneNumberValidator(\"9652445730765\")"
   ]
  },
  {
   "cell_type": "code",
   "execution_count": 3,
   "metadata": {},
   "outputs": [
    {
     "data": {
      "text/plain": [
       "True"
      ]
     },
     "execution_count": 3,
     "metadata": {},
     "output_type": "execute_result"
    }
   ],
   "source": [
    "# Function to validate Email\n",
    "\n",
    "def emailValidator(email):\n",
    "    pattern = '^[a-z0-9][a-z0-9_.]{5,19}[0-9a-z][@][a-z0-9]{3,18}[.][a-z]{2,4}'\n",
    "    if re.match(pattern,email):\n",
    "        return True\n",
    "    else:\n",
    "        return False\n",
    "    \n",
    "emailValidator(\"durgabhavani.vankini@gmail.com\")"
   ]
  },
  {
   "cell_type": "code",
   "execution_count": 4,
   "metadata": {},
   "outputs": [
    {
     "name": "stdout",
     "output_type": "stream",
     "text": [
      "Contact added\n"
     ]
    },
    {
     "data": {
      "text/plain": [
       "{'bhavani': ['9556328345', 'durgabhavani.vankini@gmail.com'],\n",
       " 'sai1': ['9652445735', 'bhavani.vankini@gmail.com']}"
      ]
     },
     "execution_count": 4,
     "metadata": {},
     "output_type": "execute_result"
    }
   ],
   "source": [
    "contacts = {\"bhavani\":['9556328345','durgabhavani.vankini@gmail.com']}\n",
    "def addContact(name,number,email):\n",
    "    if name in contacts:\n",
    "        print(\"Name already exists\")\n",
    "    else:\n",
    "        if phoneNumberValidator(number) and emailValidator(email):\n",
    "            contacts[name] = [number,email]        \n",
    "            print(\"Contact added\")\n",
    "        if not phoneNumberValidator(number):\n",
    "            print(\"Invalid Number\")\n",
    "        if not emailValidator(email):\n",
    "            print(\"Invalid Email\")\n",
    "    return contacts\n",
    "\n",
    "addContact(\"sai1\",\"9652445735\",\"bhavani.vankini@gmail.com\")"
   ]
  },
  {
   "cell_type": "code",
   "execution_count": 5,
   "metadata": {},
   "outputs": [
    {
     "name": "stdout",
     "output_type": "stream",
     "text": [
      "sai1\n",
      "Phone : 9652445735\n",
      "Email : bhavani.vankini@gmail.com\n"
     ]
    }
   ],
   "source": [
    "def searchContact(name):\n",
    "    if name in contacts:\n",
    "        print(name)\n",
    "        print(\"Phone :\",contacts[name][0])\n",
    "        print(\"Email :\",contacts[name][1])\n",
    "    else:\n",
    "        print(\"Contact does not exists\")\n",
    "        \n",
    "searchContact(\"sai1\")\n"
   ]
  },
  {
   "cell_type": "code",
   "execution_count": 8,
   "metadata": {},
   "outputs": [
    {
     "name": "stdout",
     "output_type": "stream",
     "text": [
      "2 contacts added successfully.\n"
     ]
    },
    {
     "data": {
      "text/plain": [
       "{'bhavani': ['8978263439', 'chari.vankini@gmail.com'],\n",
       " 'Sai': [9177267818, 'vankini0924@gmail.com'],\n",
       " 'Padma': [897652622, 'padma.vankini@gmail.com']}"
      ]
     },
     "execution_count": 8,
     "metadata": {},
     "output_type": "execute_result"
    }
   ],
   "source": [
    "# newContacts as dictionary\n",
    "# Merge new contacts with existing data\n",
    "def importContacts(contacts,newContacts):\n",
    "    contacts.update(newContacts)\n",
    "    print(len(newContacts.keys()),\"contacts added successfully.\")\n",
    "    return contacts\n",
    "\n",
    "newContacts = {\"Sai\":[9177267818,\"vankini0924@gmail.com\"],\"Padma\":[897652622,\"padma.vankini@gmail.com\"]}\n",
    "importContacts(contacts,newContacts)"
   ]
  },
  {
   "cell_type": "code",
   "execution_count": null,
   "metadata": {},
   "outputs": [],
   "source": [
    "def listContacts():\n",
    "    for i in contacts:\n",
    "        print(i)\n",
    "        print(\" Phone :\",contacts[i][0])\n",
    "        print(\" Email :\",contacts[i][1])\n",
    "    return\n",
    "listContacts()"
   ]
  },
  {
   "cell_type": "code",
   "execution_count": 6,
   "metadata": {},
   "outputs": [
    {
     "name": "stdout",
     "output_type": "stream",
     "text": [
      "Contact Modified\n"
     ]
    },
    {
     "data": {
      "text/plain": [
       "{'bhavani': ['8978263439', 'chari.vankini@gmail.com'],\n",
       " 'sai1': ['9652445735', 'bhavani.vankini@gmail.com']}"
      ]
     },
     "execution_count": 6,
     "metadata": {},
     "output_type": "execute_result"
    }
   ],
   "source": [
    "def modifyContacts(contacts,name,num,email):\n",
    "    if name in contacts:\n",
    "        contacts[name] = [num,email]\n",
    "        print(\"Contact Modified\")\n",
    "    else:\n",
    "        print(\"Contact does not exists\")\n",
    "    return contacts\n",
    "modifyContacts(contacts,\"bhavani\",\"8978263439\",\"chari.vankini@gmail.com\")\n"
   ]
  },
  {
   "cell_type": "code",
   "execution_count": 7,
   "metadata": {},
   "outputs": [
    {
     "name": "stdout",
     "output_type": "stream",
     "text": [
      "Contact Removed\n"
     ]
    },
    {
     "data": {
      "text/plain": [
       "{'bhavani': ['8978263439', 'chari.vankini@gmail.com']}"
      ]
     },
     "execution_count": 7,
     "metadata": {},
     "output_type": "execute_result"
    }
   ],
   "source": [
    "def removeContact(contacts,name):\n",
    "    if name in contacts:\n",
    "        contacts.pop(name)\n",
    "        print(\"Contact Removed\")\n",
    "    else:\n",
    "        print(\"Contact does not exists\")\n",
    "       \n",
    "    return contacts\n",
    "\n",
    "removeContact(contacts,\"sai1\")"
   ]
  },
  {
   "cell_type": "markdown",
   "metadata": {},
   "source": [
    "### File Handling in Python\n",
    "\n",
    "File - Document containing information residing\n",
    "Types - Text,PDF,CSV etc\n",
    "\n",
    "File I/O - Channelling I/O data to files\n",
    "Default I/O channels- keyboard /screen\n",
    "\n",
    "change I/O channel to files for Reading and writing\n",
    "\n",
    "Read a file -Input from file\n",
    "write to a file - Output to \n"
   ]
  },
  {
   "cell_type": "code",
   "execution_count": 10,
   "metadata": {},
   "outputs": [
    {
     "name": "stdout",
     "output_type": "stream",
     "text": [
      "text\n"
     ]
    },
    {
     "data": {
      "text/plain": [
       "'text'"
      ]
     },
     "execution_count": 10,
     "metadata": {},
     "output_type": "execute_result"
    }
   ],
   "source": [
    "s = input()\n",
    "s"
   ]
  },
  {
   "cell_type": "code",
   "execution_count": 11,
   "metadata": {},
   "outputs": [
    {
     "name": "stdout",
     "output_type": "stream",
     "text": [
      "file\n",
      "file\n",
      "file\n"
     ]
    }
   ],
   "source": [
    "# Function to read a file\n",
    "\n",
    "def readFile(filename):\n",
    "    f=open(filename,'r')\n",
    "    filedata=f.read()\n",
    "    f.close()\n",
    "    return filedata\n",
    "filename= 'packages/data.txt'\n",
    "for line in readFile(filename).split('\\n'):\n",
    "    print(line)"
   ]
  },
  {
   "cell_type": "code",
   "execution_count": 18,
   "metadata": {},
   "outputs": [
    {
     "name": "stdout",
     "output_type": "stream",
     "text": [
      "file\n",
      "\n",
      "file\n",
      "\n",
      "file\n",
      "file\n",
      "file\n",
      "file\n"
     ]
    }
   ],
   "source": [
    "def printFileDataLines(filename):\n",
    "    with open(filename,'r') as f:\n",
    "        for line in f:\n",
    "            print(line)\n",
    "    return\n",
    "printFileDataLines(filename)\n",
    "print(readFile(filename))"
   ]
  },
  {
   "cell_type": "code",
   "execution_count": 9,
   "metadata": {},
   "outputs": [],
   "source": [
    "def writeFile(filename,filedata):\n",
    "    with open(filename,'w') as f:\n",
    "        f.write(filedata)\n",
    "    return\n",
    "filename='packages/data.txt'\n",
    "\n",
    "writeFile(filename,\"new data\")"
   ]
  },
  {
   "cell_type": "code",
   "execution_count": 12,
   "metadata": {},
   "outputs": [],
   "source": [
    "# Function to write data into a file\n",
    "def writeIntoFile(filaname,filedata):\n",
    "    with open(filename, 'w') as f: # New data writing to the file\n",
    "        f.write(filedata)\n",
    "    return\n",
    "\n",
    "filename = 'packages/data.txt'\n",
    "writeIntoFile(filename,\"new Data\")\n",
    "\n",
    "# Function to append data into a file\n",
    "def writeIntoFile(filaname,filedata):\n",
    "    with open(filename, 'a') as f: # New data writing to the file\n",
    "        f.write(filedata)\n",
    "    return\n",
    "\n",
    "filename = 'packages/data.txt'\n",
    "writeIntoFile(filename,\"\\nnew Data1\")\n"
   ]
  },
  {
   "cell_type": "code",
   "execution_count": null,
   "metadata": {},
   "outputs": [],
   "source": []
  },
  {
   "cell_type": "code",
   "execution_count": null,
   "metadata": {},
   "outputs": [],
   "source": []
  }
 ],
 "metadata": {
  "kernelspec": {
   "display_name": "Python 3",
   "language": "python",
   "name": "python3"
  },
  "language_info": {
   "codemirror_mode": {
    "name": "ipython",
    "version": 3
   },
   "file_extension": ".py",
   "mimetype": "text/x-python",
   "name": "python",
   "nbconvert_exporter": "python",
   "pygments_lexer": "ipython3",
   "version": "3.7.3"
  }
 },
 "nbformat": 4,
 "nbformat_minor": 2
}
